{
  "nbformat": 4,
  "nbformat_minor": 0,
  "metadata": {
    "colab": {
      "provenance": [],
      "authorship_tag": "ABX9TyPba3G5o7m//0b33mUZA1TC",
      "include_colab_link": true
    },
    "kernelspec": {
      "name": "python3",
      "display_name": "Python 3"
    },
    "language_info": {
      "name": "python"
    }
  },
  "cells": [
    {
      "cell_type": "markdown",
      "metadata": {
        "id": "view-in-github",
        "colab_type": "text"
      },
      "source": [
        "<a href=\"https://colab.research.google.com/github/2303A52060/23CSBTB39-40/blob/main/assignment_2.ipynb\" target=\"_parent\"><img src=\"https://colab.research.google.com/assets/colab-badge.svg\" alt=\"Open In Colab\"/></a>"
      ]
    },
    {
      "cell_type": "markdown",
      "source": [
        "assignment-2,\n",
        "\n",
        "name:m.bharath,\n",
        "\n",
        "rollno:2303a52060.\n",
        "\n",
        "Lab Exercise - Implement Breadth First, Depth First and A* Search\n",
        "Algorithms\n",
        "\n",
        "Part 1 -Implement Breadth First Search Algorithm using a Queue.\n",
        "\n",
        "1. Given a graph with adjacency list and a starting vertex and we have to traverse the\n",
        "graph.\n",
        "2. We will first print the value in the starting vertex,\n",
        "3. Continue to print the value of neighbors of the starting vertex and\n",
        "4. Next move on to the next level after completing the current level till all the vertices of the graph are printed.\n",
        "\n"
      ],
      "metadata": {
        "id": "_t5skdukFxZH"
      }
    },
    {
      "cell_type": "code",
      "source": [
        "graph = {\n",
        "    '0': ['1', '3'],\n",
        "    '1': ['0', '2'],\n",
        "    '2': ['1', '5'],\n",
        "    '3': ['0', '4'],\n",
        "    '4': ['3'],\n",
        "    '5': ['2']\n",
        "}\n",
        "from collections import deque\n",
        "\n",
        "def bfs(graph, start_vertex):\n",
        "\n",
        "    queue = deque([start_vertex])\n",
        "\n",
        "\n",
        "    visited = set()\n",
        "\n",
        "\n",
        "    visited.add(start_vertex)\n",
        "\n",
        "    while queue:\n",
        "\n",
        "        vertex = queue.popleft()\n",
        "\n",
        "\n",
        "        print(vertex)\n",
        "\n",
        "\n",
        "        neighbors = graph.get(vertex, [])\n",
        "\n",
        "\n",
        "        for neighbor in neighbors:\n",
        "            if neighbor not in visited:\n",
        "\n",
        "                queue.append(neighbor)\n",
        "                visited.add(neighbor)\n",
        "\n",
        "graph = {\n",
        "    '0': ['1', '3'],\n",
        "    '1': ['0', '2'],\n",
        "    '2': ['1', '5'],\n",
        "    '3': ['0', '4'],\n",
        "    '4': ['3'],\n",
        "    '5': ['2']\n",
        "}\n",
        "\n",
        "start_vertex = '0'\n",
        "\n",
        "bfs(graph, start_vertex)\n"
      ],
      "metadata": {
        "colab": {
          "base_uri": "https://localhost:8080/"
        },
        "id": "aM2qn9ptGQuU",
        "outputId": "0909c843-39b3-4ecb-c0c2-baf648dae1ec"
      },
      "execution_count": 4,
      "outputs": [
        {
          "output_type": "stream",
          "name": "stdout",
          "text": [
            "0\n",
            "1\n",
            "3\n",
            "2\n",
            "4\n",
            "5\n"
          ]
        }
      ]
    },
    {
      "cell_type": "markdown",
      "source": [
        "Part 2 – Implement Depth First Search Algorithm using a Stack.\n",
        "\n",
        "DFS Stack implementations steps to be followed:\n",
        "\n",
        "1. Start at the root node and push it onto the stack.\n",
        "\n",
        "2. Check for any adjacent nodes of the tree and select one node.\n",
        "\n",
        "3. Traverse the entire branch of the selected node and push all the nodes into the stack.\n",
        "\n",
        "4. Upon reaching the end of a branch (no more adjacent nodes) ie nth leaf node, move\n",
        "back by a single step and look for adjacent nodes of the n-1th node.\n",
        "\n",
        "5. If there are adjacent nodes for the n-1th node, traverse those branches and push nodes onto the stack.\n"
      ],
      "metadata": {
        "id": "vuf_kHejIuZ9"
      }
    },
    {
      "cell_type": "code",
      "source": [
        "graph = {\n",
        "    'A': ['B', 'C'],\n",
        "    'B': ['A', 'D', 'E'],\n",
        "    'C': ['A', 'F'],\n",
        "    'D': ['B'],\n",
        "    'E': ['B', 'F'],\n",
        "    'F': ['C', 'E'],\n",
        "}\n",
        "def dfs(graph, start_vertex):\n",
        "    # Initialize a stack with the starting vertex\n",
        "    stack = [start_vertex]\n",
        "\n",
        "    # Set to keep track of visited vertices\n",
        "    visited = set()\n",
        "\n",
        "    while stack:\n",
        "        # Pop a vertex from the stack\n",
        "        vertex = stack.pop()\n",
        "\n",
        "        if vertex not in visited:\n",
        "            # Print the value of the vertex\n",
        "            print(vertex)\n",
        "\n",
        "            # Mark the vertex as visited\n",
        "            visited.add(vertex)\n",
        "\n",
        "            # Get the neighbors of the vertex and push them onto the stack\n",
        "            # We reverse the neighbors to maintain the correct order of traversal\n",
        "            neighbors = graph.get(vertex, [])\n",
        "            for neighbor in reversed(neighbors):\n",
        "                if neighbor not in visited:\n",
        "                    stack.append(neighbor)\n",
        "\n",
        "# Example graph represented as an adjacency list\n",
        "graph = {\n",
        "    'A': ['B', 'C'],\n",
        "    'B': ['A', 'D', 'E'],\n",
        "    'C': ['A', 'F'],\n",
        "    'D': ['B'],\n",
        "    'E': ['B', 'F'],\n",
        "    'F': ['C', 'E'],\n",
        "}\n",
        "\n",
        "# Starting vertex for DFS\n",
        "start_vertex = 'A'\n",
        "\n",
        "# Perform DFS\n",
        "dfs(graph, start_vertex)\n"
      ],
      "metadata": {
        "colab": {
          "base_uri": "https://localhost:8080/"
        },
        "id": "PMl_cn2SJUac",
        "outputId": "4905e615-62ef-4a46-bb52-5c3720b8e278"
      },
      "execution_count": 8,
      "outputs": [
        {
          "output_type": "stream",
          "name": "stdout",
          "text": [
            "A\n",
            "B\n",
            "D\n",
            "E\n",
            "F\n",
            "C\n"
          ]
        }
      ]
    },
    {
      "cell_type": "markdown",
      "source": [
        "Part 3 – Implement A* Algorithm using Numpy.\n",
        "1. A*Algorithm (pronounced as A-star) is a combination of ‘branch and bound search algorithm’ and ‘best search algorithm’ combined with the dynamic programming prin-ciple.\n",
        "\n",
        "2. The A* Algorithm is well-known because it is used for locating path and graph traver-sals.\n",
        "\n",
        "3. This algorithm is used in numerous online maps and games.\n",
        "\n",
        "4. It uses a heuristic or evaluation function usually denoted by f(X) to determine the order in which the search visits nodes in the tree.\n",
        "\n"
      ],
      "metadata": {
        "id": "yWjZtY4FL9CT"
      }
    },
    {
      "cell_type": "code",
      "source": [
        "import numpy as np\n",
        "import heapq\n",
        "\n",
        "class Node:\n",
        "    def __init__(self, state, parent=None):\n",
        "        self.state = state\n",
        "        self.parent = parent\n",
        "        self.g = 0  # Cost from start to this node\n",
        "        self.h = 0  # Heuristic cost from this node to goal\n",
        "        self.f = 0  # Total cost\n",
        "\n",
        "    def __eq__(self, other):\n",
        "        return np.array_equal(self.state, other.state)\n",
        "\n",
        "    def __lt__(self, other):\n",
        "        return self.f < other.f\n",
        "\n",
        "def manhattan_distance(state, goal_state):\n",
        "    distance = 0\n",
        "    for i in range(3):\n",
        "        for j in range(3):\n",
        "            value = state[i, j]\n",
        "            if value != 0:\n",
        "                goal_i, goal_j = np.where(goal_state == value)\n",
        "                distance += abs(i - goal_i[0]) + abs(j - goal_j[0])\n",
        "    return distance\n",
        "\n",
        "def get_neighbors(state):\n",
        "    neighbors = []\n",
        "    zero_pos = np.argwhere(state == 0)[0]\n",
        "    x, y = zero_pos\n",
        "    directions = [(0, -1), (0, 1), (-1, 0), (1, 0)]  # Left, Right, Up, Down\n",
        "    for dx, dy in directions:\n",
        "        new_x, new_y = x + dx, y + dy\n",
        "        if 0 <= new_x < 3 and 0 <= new_y < 3:\n",
        "            new_state = np.copy(state)\n",
        "            new_state[x, y], new_state[new_x, new_y] = new_state[new_x, new_y], new_state[x, y]\n",
        "            neighbors.append(new_state)\n",
        "    return neighbors\n",
        "\n",
        "def astar(start_state, goal_state):\n",
        "    start_node = Node(start_state)\n",
        "    goal_node = Node(goal_state)\n",
        "\n",
        "    open_list = []\n",
        "    closed_list = set()\n",
        "\n",
        "    heapq.heappush(open_list, start_node)\n",
        "\n",
        "    while open_list:\n",
        "        current_node = heapq.heappop(open_list)\n",
        "\n",
        "        if current_node == goal_node:\n",
        "            path = []\n",
        "            while current_node:\n",
        "                path.append(current_node.state)\n",
        "                current_node = current_node.parent\n",
        "            return path[::-1]\n",
        "\n",
        "        closed_list.add(tuple(map(tuple, current_node.state)))\n",
        "\n",
        "        for neighbor_state in get_neighbors(current_node.state):\n",
        "            neighbor_node = Node(neighbor_state, current_node)\n",
        "            if tuple(map(tuple, neighbor_node.state)) in closed_list:\n",
        "                continue\n",
        "\n",
        "            neighbor_node.g = current_node.g + 1\n",
        "            neighbor_node.h = manhattan_distance(neighbor_node.state, goal_state)\n",
        "            neighbor_node.f = neighbor_node.g + neighbor_node.h\n",
        "\n",
        "            if any(neighbor_node == node and neighbor_node.f >= node.f for node in open_list):\n",
        "                continue\n",
        "\n",
        "            heapq.heappush(open_list, neighbor_node)\n",
        "\n",
        "    return None\n",
        "\n",
        "# Example start and goal states\n",
        "start_state = np.array([\n",
        "    [1, 2, 3],\n",
        "    [4, 5, 0],\n",
        "    [7, 8, 6]\n",
        "])\n",
        "\n",
        "goal_state = np.array([\n",
        "    [1, 2, 3],\n",
        "    [4, 5, 6],\n",
        "    [7, 8, 0]\n",
        "])\n",
        "\n",
        "path = astar(start_state, goal_state)\n",
        "for step in path:\n",
        "    print(step)\n"
      ],
      "metadata": {
        "colab": {
          "base_uri": "https://localhost:8080/"
        },
        "id": "edL7i19zMMRc",
        "outputId": "f2c000ca-6f8a-4da2-aa4b-31324d17fa61"
      },
      "execution_count": 9,
      "outputs": [
        {
          "output_type": "stream",
          "name": "stdout",
          "text": [
            "[[1 2 3]\n",
            " [4 5 0]\n",
            " [7 8 6]]\n",
            "[[1 2 3]\n",
            " [4 5 6]\n",
            " [7 8 0]]\n"
          ]
        }
      ]
    }
  ]
}